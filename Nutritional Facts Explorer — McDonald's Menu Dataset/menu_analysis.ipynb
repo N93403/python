{
 "cells": [
  {
   "cell_type": "markdown",
   "metadata": {},
   "source": [
    "# 🍔 Nutritional Facts Analysis — McDonald's Menu\n",
    "\n",
    "Questo notebook esplora il dataset nutrizionale del menu McDonald's. L'obiettivo è analizzare le caratteristiche nutrizionali, visualizzare le distribuzioni, identificare correlazioni e costruire un semplice modello predittivo.\n",
    "\n",
    "📌 Dataset: [menu.csv](https://www.kaggle.com/datasets/mcdonalds/nutrition-facts)\n",
    "\n",
    "📊 Variabili: calorie, grassi, carboidrati, proteine, zuccheri, sodio, ecc."
   ]
  },
  {
   "cell_type": "code",
   "execution_count": null,
   "metadata": {},
   "outputs": [],
   "source": [
    "import pandas as pd\n",
    "import numpy as np\n",
    "import matplotlib.pyplot as plt\n",
    "import seaborn as sns\n",
    "from sklearn.linear_model import LinearRegression\n",
    "from sklearn.model_selection import train_test_split\n",
    "from sklearn.metrics import mean_squared_error"
   ]
  },
  {
   "cell_type": "code",
   "execution_count": null,
   "metadata": {},
   "outputs": [],
   "source": [
    "# Caricamento del dataset\n",
    "df = pd.read_csv(\"../data/menu.csv\")\n",
    "print(f\"✅ Loaded {df.shape[0]} rows and {df.shape[1]} columns\")\n",
    "df.head()"
   ]
  },
  {
   "cell_type": "code",
   "execution_count": null,
   "metadata": {},
   "outputs": [],
   "source": [
    "# Informazioni sulle colonne\n",
    "df.info()\n",
    "\n",
    "# Statistiche descrittive\n",
    "df.describe()"
   ]
  },
  {
   "cell_type": "code",
   "execution_count": null,
   "metadata": {},
   "outputs": [],
   "source": [
    "# Matrice di correlazione\n",
    "numeric_df = df.select_dtypes(include=[np.number]).dropna()\n",
    "\n",
    "plt.figure(figsize=(10, 8))\n",
    "sns.heatmap(numeric_df.corr(), annot=True, cmap=\"coolwarm\")\n",
    "plt.title(\"🔗 Correlation Matrix\")\n",
    "plt.tight_layout()\n",
    "plt.show()"
   ]
  },
  {
   "cell_type": "code",
   "execution_count": null,
   "metadata": {},
   "outputs": [],
   "source": [
    "# Scatter matrix\n",
    "pd.plotting.scatter_matrix(numeric_df, figsize=(12, 12), diagonal='kde')\n",
    "plt.suptitle(\"📊 Scatter Matrix\")\n",
    "plt.tight_layout()\n",
    "plt.show()"
   ]
  },
  {
   "cell_type": "code",
   "execution_count": null,
   "metadata": {},
   "outputs": [],
   "source": [
    "# Boxplot per outlier\n",
    "for col in numeric_df.columns:\n",
    "    plt.figure()\n",
    "    sns.boxplot(x=numeric_df[col])\n",
    "    plt.title(f\"📦 Boxplot: {col}\")\n",
    "    plt.show()"
   ]
  },
  {
   "cell_type": "code",
   "execution_count": null,
   "metadata": {},
   "outputs": [],
   "source": [
    "# Feature engineering: normalizzazione calorie\n",
    "df['normalized_calories'] = (df['Calories'] - df['Calories'].min()) / (df['Calories'].max() - df['Calories'].min())\n",
    "df[['Calories', 'normalized_calories']].head()"
   ]
  },
  {
   "cell_type": "code",
   "execution_count": null,
   "metadata": {},
   "outputs": [],
   "source": [
    "# Modello di regressione lineare\n",
    "X = df[['Protein', 'Carbohydrates']]\n",
    "y = df['Calories']\n",
    "\n",
    "X_train, X_test, y_train, y_test = train_test_split(X, y, test_size=0.2, random_state=42)\n",
    "model = LinearRegression()\n",
    "model.fit(X_train, y_train)\n",
    "y_pred = model.predict(X_test)\n",
    "\n",
    "rmse = np.sqrt(mean_squared_error(y_test, y_pred))\n",
    "print(f\"📈 RMSE: {rmse:.2f}\")"
   ]
  },
  {
   "cell_type": "code",
   "execution_count": null,
   "metadata": {},
   "outputs": [],
   "source": [
    "# Visualizzazione delle predizioni\n",
    "plt.scatter(y_test, y_pred)\n",
    "plt.xlabel(\"Actual Calories\")\n",
    "plt.ylabel(\"Predicted Calories\")\n",
    "plt.title(\"🎯 Actual vs Predicted Calories\")\n",
    "plt.plot([y.min(), y.max()], [y.min(), y.max()], color='red')\n",
    "plt.tight_layout()\n",
    "plt.show()"
   ]
  },
  {
   "cell_type": "markdown",
   "metadata": {},
   "source": [
    "## ✅ Conclusione\n",
    "\n",
    "Abbiamo esplorato il dataset nutrizionale del menu McDonald's, visualizzato le distribuzioni e correlazioni, trattato gli outlier e costruito un semplice modello di regressione per stimare le calorie in base a proteine e carboidrati.\n",
    "\n",
    "🔍 Prossimi passi:\n",
    "- Aggiungere più feature al modello\n",
    "- Provare modelli non lineari\n",
    "- Analizzare categorie di prodotto\n",
    "\n",
    "📁 Questo notebook è pronto per essere pubblicato su GitHub o Kaggle come starter didattico."
   ]
  }
 ],
 "metadata": {
  "kernelspec": {
   "display_name": "Python 3",
   "language": "python",
   "name": "python3"
  },
  "language_info": {
   "name": "python",
   "version": "3.10"
  }
 },
 "nbformat": 4,
 "nbformat_minor": 5
}
